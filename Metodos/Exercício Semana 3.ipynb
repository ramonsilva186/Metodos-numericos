{
 "cells": [
  {
   "cell_type": "code",
   "execution_count": 57,
   "metadata": {},
   "outputs": [],
   "source": [
    "import numpy as np"
   ]
  },
  {
   "cell_type": "markdown",
   "metadata": {},
   "source": [
    "## Exercicio 1.1"
   ]
  },
  {
   "cell_type": "code",
   "execution_count": 100,
   "metadata": {},
   "outputs": [],
   "source": [
    "def raiz_media(x):\n",
    "    vetor = np.array([])  \n",
    "    xi = np.float64(x)\n",
    "    for i in range(10):\n",
    "        xi = (xi + x/xi) / 2\n",
    "        vetor = np.append(vetor, xi)    \n",
    "    return(xi, vetor)"
   ]
  },
  {
   "cell_type": "code",
   "execution_count": 121,
   "metadata": {},
   "outputs": [],
   "source": [
    "def imprimir(xi, vetor):\n",
    "\n",
    "    for i in vetor:\n",
    "        print(i)\n",
    "        print(\"Erro Relativo: \", np.absolute((xi-i)/xi))\n",
    "        print()"
   ]
  },
  {
   "cell_type": "code",
   "execution_count": 122,
   "metadata": {},
   "outputs": [
    {
     "name": "stdout",
     "output_type": "stream",
     "text": [
      "18.5\n",
      "Erro Relativo:  2.0833333333333335\n",
      "\n",
      "10.222972972972974\n",
      "Erro Relativo:  0.7038288288288289\n",
      "\n",
      "6.872226737643129\n",
      "Erro Relativo:  0.14537112294052154\n",
      "\n",
      "6.055351744849479\n",
      "Erro Relativo:  0.009225290808246486\n",
      "\n",
      "6.0002529841194185\n",
      "Erro Relativo:  4.216401990309038e-05\n",
      "\n",
      "6.000000005333189\n",
      "Erro Relativo:  8.888648335888168e-10\n",
      "\n",
      "6.0\n",
      "Erro Relativo:  0.0\n",
      "\n",
      "6.0\n",
      "Erro Relativo:  0.0\n",
      "\n",
      "6.0\n",
      "Erro Relativo:  0.0\n",
      "\n",
      "6.0\n",
      "Erro Relativo:  0.0\n",
      "\n"
     ]
    }
   ],
   "source": [
    "num = 36\n",
    "raiz, lista = raiz_media(num)\n",
    "imprimir(raiz, lista)"
   ]
  },
  {
   "cell_type": "markdown",
   "metadata": {},
   "source": [
    "## Exercicio 1.2"
   ]
  },
  {
   "cell_type": "code",
   "execution_count": 61,
   "metadata": {},
   "outputs": [],
   "source": [
    "def epsilon():\n",
    "    e = 1\n",
    "    while ((e + 1 > 1)) :\n",
    "        e = e/2\n",
    "    return e*2"
   ]
  },
  {
   "cell_type": "code",
   "execution_count": 62,
   "metadata": {},
   "outputs": [
    {
     "data": {
      "text/plain": [
       "2.220446049250313e-16"
      ]
     },
     "execution_count": 62,
     "metadata": {},
     "output_type": "execute_result"
    }
   ],
   "source": [
    "epsilon()"
   ]
  },
  {
   "cell_type": "code",
   "execution_count": 63,
   "metadata": {},
   "outputs": [
    {
     "data": {
      "text/plain": [
       "2.220446049250313e-16"
      ]
     },
     "execution_count": 63,
     "metadata": {},
     "output_type": "execute_result"
    }
   ],
   "source": [
    "np.finfo(float).eps"
   ]
  },
  {
   "cell_type": "code",
   "execution_count": 64,
   "metadata": {},
   "outputs": [
    {
     "data": {
      "text/plain": [
       "True"
      ]
     },
     "execution_count": 64,
     "metadata": {},
     "output_type": "execute_result"
    }
   ],
   "source": [
    "np.finfo(float).eps == epsilon()"
   ]
  },
  {
   "cell_type": "markdown",
   "metadata": {},
   "source": [
    "Tanto a nossa função quanto a função nativa do Numpy retornam o mesmo valor"
   ]
  },
  {
   "cell_type": "markdown",
   "metadata": {},
   "source": [
    "## Exercicio 1.3"
   ]
  },
  {
   "cell_type": "code",
   "execution_count": 65,
   "metadata": {},
   "outputs": [],
   "source": [
    "def serie_iterativa(x):\n",
    "    i = 0\n",
    "    while i < x:\n",
    "        if(i == 0):\n",
    "            n = 1/3\n",
    "            print(i, \": \", n)\n",
    "        else:\n",
    "            n = 4 * (1/3) - 1\n",
    "            print(i, \": \", n)\n",
    "        i += 1"
   ]
  },
  {
   "cell_type": "code",
   "execution_count": 66,
   "metadata": {},
   "outputs": [
    {
     "name": "stdout",
     "output_type": "stream",
     "text": [
      "0 :  0.3333333333333333\n",
      "1 :  0.33333333333333326\n",
      "2 :  0.33333333333333326\n",
      "3 :  0.33333333333333326\n",
      "4 :  0.33333333333333326\n",
      "5 :  0.33333333333333326\n",
      "6 :  0.33333333333333326\n",
      "7 :  0.33333333333333326\n",
      "8 :  0.33333333333333326\n",
      "9 :  0.33333333333333326\n",
      "10 :  0.33333333333333326\n",
      "11 :  0.33333333333333326\n",
      "12 :  0.33333333333333326\n",
      "13 :  0.33333333333333326\n",
      "14 :  0.33333333333333326\n"
     ]
    }
   ],
   "source": [
    "serie_iterativa(15)"
   ]
  },
  {
   "cell_type": "markdown",
   "metadata": {},
   "source": [
    "Converge, mas não irá chegar no valor 1/3 propriamente dito"
   ]
  },
  {
   "cell_type": "markdown",
   "metadata": {},
   "source": [
    "## Exercicio 1.4"
   ]
  },
  {
   "cell_type": "code",
   "execution_count": 67,
   "metadata": {},
   "outputs": [],
   "source": [
    "u = 0.1\n",
    "u2 = 0.01\n",
    "u3 = 0.001"
   ]
  },
  {
   "cell_type": "code",
   "execution_count": 68,
   "metadata": {},
   "outputs": [],
   "source": [
    "def primeira_expressao(x):\n",
    "    expressao = (np.exp(1/x))/(1 + np.exp(1/x))\n",
    "    return print (expressao)"
   ]
  },
  {
   "cell_type": "code",
   "execution_count": 69,
   "metadata": {},
   "outputs": [],
   "source": [
    "def segunda_expressao(x):\n",
    "    expressao2 = 1/(np.exp(-1/x) + 1)\n",
    "    return print(expressao2)"
   ]
  },
  {
   "cell_type": "code",
   "execution_count": 70,
   "metadata": {},
   "outputs": [
    {
     "name": "stdout",
     "output_type": "stream",
     "text": [
      "0.9999546021312976\n",
      "0.9999546021312976\n"
     ]
    }
   ],
   "source": [
    "primeira_expressao(u)\n",
    "segunda_expressao(u)"
   ]
  },
  {
   "cell_type": "code",
   "execution_count": 71,
   "metadata": {},
   "outputs": [
    {
     "name": "stdout",
     "output_type": "stream",
     "text": [
      "1.0\n",
      "1.0\n"
     ]
    }
   ],
   "source": [
    "primeira_expressao(u2)\n",
    "segunda_expressao(u2)"
   ]
  },
  {
   "cell_type": "code",
   "execution_count": 72,
   "metadata": {},
   "outputs": [
    {
     "name": "stdout",
     "output_type": "stream",
     "text": [
      "nan\n",
      "1.0\n"
     ]
    },
    {
     "name": "stderr",
     "output_type": "stream",
     "text": [
      "<ipython-input-68-e5cb35416ea2>:2: RuntimeWarning: overflow encountered in exp\n",
      "  expressao = (np.exp(1/x))/(1 + np.exp(1/x))\n",
      "<ipython-input-68-e5cb35416ea2>:2: RuntimeWarning: invalid value encountered in double_scalars\n",
      "  expressao = (np.exp(1/x))/(1 + np.exp(1/x))\n"
     ]
    }
   ],
   "source": [
    "primeira_expressao(u3)\n",
    "segunda_expressao(u3)"
   ]
  },
  {
   "cell_type": "markdown",
   "metadata": {},
   "source": [
    "A primeira expressao quando o é valor muito pequeno(0.001) ocorre um overflow, já a segunda expressão ocorre um limite de 1.0"
   ]
  },
  {
   "cell_type": "markdown",
   "metadata": {},
   "source": [
    "## Exercicio 1.5"
   ]
  },
  {
   "cell_type": "code",
   "execution_count": 73,
   "metadata": {},
   "outputs": [],
   "source": [
    "x = 10**(-12)\n",
    "x1 = 10**(-15)\n",
    "x2 = 10**(-17)"
   ]
  },
  {
   "cell_type": "code",
   "execution_count": 74,
   "metadata": {},
   "outputs": [],
   "source": [
    "def func_indentidade(x):\n",
    "    expressao = ((1 + x) -1)/x\n",
    "    return expressao"
   ]
  },
  {
   "cell_type": "code",
   "execution_count": 75,
   "metadata": {},
   "outputs": [
    {
     "data": {
      "text/plain": [
       "'1.000088900582341e+00'"
      ]
     },
     "execution_count": 75,
     "metadata": {},
     "output_type": "execute_result"
    }
   ],
   "source": [
    "np.format_float_scientific(func_indentidade(x))"
   ]
  },
  {
   "cell_type": "code",
   "execution_count": 76,
   "metadata": {},
   "outputs": [
    {
     "data": {
      "text/plain": [
       "'1.1102230246251565e+00'"
      ]
     },
     "execution_count": 76,
     "metadata": {},
     "output_type": "execute_result"
    }
   ],
   "source": [
    "np.format_float_scientific(func_indentidade(x1))"
   ]
  },
  {
   "cell_type": "code",
   "execution_count": 77,
   "metadata": {},
   "outputs": [
    {
     "data": {
      "text/plain": [
       "'0.e+00'"
      ]
     },
     "execution_count": 77,
     "metadata": {},
     "output_type": "execute_result"
    }
   ],
   "source": [
    "np.format_float_scientific(func_indentidade(x2))"
   ]
  },
  {
   "cell_type": "markdown",
   "metadata": {},
   "source": [
    "Gera Underflow, porque o numero 10^(-17) é menor que o valor que o tipo é capaz de representar."
   ]
  }
 ],
 "metadata": {
  "kernelspec": {
   "display_name": "Python 3",
   "language": "python",
   "name": "python3"
  },
  "language_info": {
   "codemirror_mode": {
    "name": "ipython",
    "version": 3
   },
   "file_extension": ".py",
   "mimetype": "text/x-python",
   "name": "python",
   "nbconvert_exporter": "python",
   "pygments_lexer": "ipython3",
   "version": "3.8.3"
  }
 },
 "nbformat": 4,
 "nbformat_minor": 4
}
