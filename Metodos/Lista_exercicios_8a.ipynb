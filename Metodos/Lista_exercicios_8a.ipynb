{
 "cells": [
  {
   "cell_type": "code",
   "execution_count": 1,
   "metadata": {},
   "outputs": [],
   "source": [
    "import numpy as np\n",
    "import scipy.linalg as sla"
   ]
  },
  {
   "cell_type": "markdown",
   "metadata": {},
   "source": [
    "## **Exercício 1.1**"
   ]
  },
  {
   "cell_type": "markdown",
   "metadata": {},
   "source": [
    "### **a)**"
   ]
  },
  {
   "cell_type": "code",
   "execution_count": 2,
   "metadata": {},
   "outputs": [],
   "source": [
    "A = np.array([[1, 2, 3], [4, 5, 6], [7, 8, 9]])\n",
    "b = np.array([1, 1, 1])"
   ]
  },
  {
   "cell_type": "code",
   "execution_count": 3,
   "metadata": {},
   "outputs": [
    {
     "data": {
      "text/plain": [
       "2"
      ]
     },
     "execution_count": 3,
     "metadata": {},
     "output_type": "execute_result"
    }
   ],
   "source": [
    "np.linalg.matrix_rank(A)"
   ]
  },
  {
   "cell_type": "code",
   "execution_count": 4,
   "metadata": {},
   "outputs": [
    {
     "data": {
      "text/plain": [
       "2"
      ]
     },
     "execution_count": 4,
     "metadata": {},
     "output_type": "execute_result"
    }
   ],
   "source": [
    "np.linalg.matrix_rank(np.c_[A, b])"
   ]
  },
  {
   "cell_type": "code",
   "execution_count": 5,
   "metadata": {},
   "outputs": [
    {
     "data": {
      "text/plain": [
       "3"
      ]
     },
     "execution_count": 5,
     "metadata": {},
     "output_type": "execute_result"
    }
   ],
   "source": [
    "A.shape[1]"
   ]
  },
  {
   "cell_type": "markdown",
   "metadata": {},
   "source": [
    "### **b)**"
   ]
  },
  {
   "cell_type": "code",
   "execution_count": 6,
   "metadata": {},
   "outputs": [],
   "source": [
    "A = np.array([[2, 3], [-4, -6]])\n",
    "b = np.array([10, -10])"
   ]
  },
  {
   "cell_type": "code",
   "execution_count": 7,
   "metadata": {},
   "outputs": [
    {
     "data": {
      "text/plain": [
       "1"
      ]
     },
     "execution_count": 7,
     "metadata": {},
     "output_type": "execute_result"
    }
   ],
   "source": [
    "np.linalg.matrix_rank(A)"
   ]
  },
  {
   "cell_type": "code",
   "execution_count": 8,
   "metadata": {},
   "outputs": [
    {
     "data": {
      "text/plain": [
       "2"
      ]
     },
     "execution_count": 8,
     "metadata": {},
     "output_type": "execute_result"
    }
   ],
   "source": [
    "np.linalg.matrix_rank(np.c_[A, b])"
   ]
  },
  {
   "cell_type": "code",
   "execution_count": 9,
   "metadata": {},
   "outputs": [
    {
     "data": {
      "text/plain": [
       "2"
      ]
     },
     "execution_count": 9,
     "metadata": {},
     "output_type": "execute_result"
    }
   ],
   "source": [
    "A.shape[1]"
   ]
  },
  {
   "cell_type": "markdown",
   "metadata": {},
   "source": [
    "## **Exercício 1.2**"
   ]
  },
  {
   "cell_type": "code",
   "execution_count": 10,
   "metadata": {},
   "outputs": [],
   "source": [
    "def sist_lin_tri_sup(A,b):\n",
    "    n = len(b)\n",
    "    \n",
    "    #Cria a martiz do tamanho do array b\n",
    "    x = np.empty(n)\n",
    "    \n",
    "    #Calculo da icognita de maior indice \n",
    "    x[-1] = b[-1]/A[-1, -1]\n",
    "    \n",
    "    print(\"--------------------------------------\")\n",
    "    print(\"Icógnita com maior indice: \", b[-1], \"/\", A[-1, -1])\n",
    "    print(\"Resultado: \", x[-1])\n",
    "    print(\"--------------------------------------\")\n",
    "    \n",
    "    for i in range(n-2, -1, -1):\n",
    "        x[i] = (b[i] - np.sum(A[i,i+1:]*x[i+1:]))/A[i,i]\n",
    "        \n",
    "        print(\"Calculando a icógnita: \", \": \", \"(\",b[i], \"-\", \"sum(\",A[i,i+1:],\"*\",x[i+1:],\")\",\"/\",A[i,i])\n",
    "        print(\"Resultado: \", x[i])\n",
    "        print(\"--------------------------------------\")\n",
    "        \n",
    "    return x"
   ]
  },
  {
   "cell_type": "code",
   "execution_count": 11,
   "metadata": {},
   "outputs": [],
   "source": [
    "A = np.array([[3,4,-5,1],[0,1,1,-2],[0,0,4,-5],[0,0,0,2]])\n",
    "b = np.array([-10,-1,3,2])"
   ]
  },
  {
   "cell_type": "code",
   "execution_count": 12,
   "metadata": {},
   "outputs": [
    {
     "name": "stdout",
     "output_type": "stream",
     "text": [
      "--------------------------------------\n",
      "Icógnita com maior indice:  2 / 2\n",
      "Resultado:  1.0\n",
      "--------------------------------------\n",
      "Calculando a icógnita:  :  ( 3 - sum( [-5] * [1.] ) / 4\n",
      "Resultado:  2.0\n",
      "--------------------------------------\n",
      "Calculando a icógnita:  :  ( -1 - sum( [ 1 -2] * [2. 1.] ) / 1\n",
      "Resultado:  -1.0\n",
      "--------------------------------------\n",
      "Calculando a icógnita:  :  ( -10 - sum( [ 4 -5  1] * [-1.  2.  1.] ) / 3\n",
      "Resultado:  1.0\n",
      "--------------------------------------\n"
     ]
    },
    {
     "data": {
      "text/plain": [
       "array([ 1., -1.,  2.,  1.])"
      ]
     },
     "execution_count": 12,
     "metadata": {},
     "output_type": "execute_result"
    }
   ],
   "source": [
    "x = sist_lin_tri_sup(A,b)\n",
    "x"
   ]
  },
  {
   "cell_type": "code",
   "execution_count": 13,
   "metadata": {},
   "outputs": [
    {
     "data": {
      "text/plain": [
       "array([-10.,  -1.,   3.,   2.])"
      ]
     },
     "execution_count": 13,
     "metadata": {},
     "output_type": "execute_result"
    }
   ],
   "source": [
    "A.dot(x)"
   ]
  },
  {
   "cell_type": "markdown",
   "metadata": {},
   "source": [
    "## **Exercício 1.3**"
   ]
  },
  {
   "cell_type": "code",
   "execution_count": 14,
   "metadata": {},
   "outputs": [],
   "source": [
    "def sist_lin_tri_inf(A,b):\n",
    "    n = len(b)\n",
    "    \n",
    "    #Cria a martiz do tamanho do array b\n",
    "    x = np.empty(n)\n",
    "    \n",
    "    #Calculo da icognita de menor indice \n",
    "    x[0] = b[0]/A[0, 0]\n",
    "    \n",
    "    print(\"--------------------------------------\")\n",
    "    print(\"Icógnita de menor indice: \", b[0],\"/\",A[0, 0])\n",
    "    print(\"Resultado: \", x[0])\n",
    "    print(\"--------------------------------------\")\n",
    "    \n",
    "    \n",
    "    for i in range(1,n):\n",
    "        x[i] = (b[i] - np.sum(A[i,:i]*x[:i]))/A[i,i]\n",
    "        \n",
    "        print(\"Calculando a incógnita: \", \"(\",b[i], \"-\", \"sum(\",A[i,:i],\"*\",x[:i],\")\",\"/\",A[i,i])\n",
    "        print(\"Resultado: \", x[i])\n",
    "        print(\"--------------------------------------\")\n",
    "        \n",
    "    return x"
   ]
  },
  {
   "cell_type": "code",
   "execution_count": 15,
   "metadata": {},
   "outputs": [],
   "source": [
    "A = np.array([[3,0,0,0],[2,1,0,0],[1,0,1,0],[1,1,1,1]])\n",
    "b = np.array([4,2,4,2])"
   ]
  },
  {
   "cell_type": "code",
   "execution_count": 16,
   "metadata": {},
   "outputs": [
    {
     "name": "stdout",
     "output_type": "stream",
     "text": [
      "--------------------------------------\n",
      "Icógnita de menor indice:  4 / 3\n",
      "Resultado:  1.3333333333333333\n",
      "--------------------------------------\n",
      "Calculando a incógnita:  ( 2 - sum( [2] * [1.33333333] ) / 1\n",
      "Resultado:  -0.6666666666666665\n",
      "--------------------------------------\n",
      "Calculando a incógnita:  ( 4 - sum( [1 0] * [ 1.33333333 -0.66666667] ) / 1\n",
      "Resultado:  2.666666666666667\n",
      "--------------------------------------\n",
      "Calculando a incógnita:  ( 2 - sum( [1 1 1] * [ 1.33333333 -0.66666667  2.66666667] ) / 1\n",
      "Resultado:  -1.333333333333334\n",
      "--------------------------------------\n"
     ]
    },
    {
     "data": {
      "text/plain": [
       "array([ 1.33333333, -0.66666667,  2.66666667, -1.33333333])"
      ]
     },
     "execution_count": 16,
     "metadata": {},
     "output_type": "execute_result"
    }
   ],
   "source": [
    "x = sist_lin_tri_inf(A,b)\n",
    "x"
   ]
  },
  {
   "cell_type": "code",
   "execution_count": 17,
   "metadata": {},
   "outputs": [
    {
     "data": {
      "text/plain": [
       "array([4., 2., 4., 2.])"
      ]
     },
     "execution_count": 17,
     "metadata": {},
     "output_type": "execute_result"
    }
   ],
   "source": [
    "A.dot(x)"
   ]
  },
  {
   "cell_type": "markdown",
   "metadata": {},
   "source": [
    "## **Exercício 1.4**"
   ]
  },
  {
   "cell_type": "code",
   "execution_count": 18,
   "metadata": {},
   "outputs": [],
   "source": [
    "def sist_lin_diagonal(A,b): return b/A.diagonal()"
   ]
  },
  {
   "cell_type": "code",
   "execution_count": 19,
   "metadata": {},
   "outputs": [],
   "source": [
    "def verificar_matriz(A,b):\n",
    "\n",
    "    sup = True\n",
    "    inf = True\n",
    "\n",
    "    for i in range(A.shape[0]):\n",
    "        for j in range(i+1, A.shape[1]):\n",
    "            if A[i,j] != 0:\n",
    "                inf = False\n",
    "\n",
    "    for i in range(1, A.shape[0]):\n",
    "        for j in range(0, i):\n",
    "            if A[i,j] != 0:\n",
    "                sup = False\n",
    "\n",
    "    if sup and inf:\n",
    "        print('\\033[1m', \"Matriz linear Diagonal\", '\\033[0m')\n",
    "        print()\n",
    "        print(\"--------------------------------------\")\n",
    "        return sist_lin_diagonal(A,b)\n",
    "    \n",
    "    else:\n",
    "        if sup:\n",
    "            print('\\033[1m', \"Matriz triangular superior\", '\\033[0m')\n",
    "            print()\n",
    "            return sist_lin_tri_sup(A,b)\n",
    "        \n",
    "        if inf:\n",
    "            print('\\033[1m', \"Matriz triangular inferior\", '\\033[0m')\n",
    "            print()\n",
    "            return sist_lin_tri_inf(A,b)"
   ]
  },
  {
   "cell_type": "markdown",
   "metadata": {},
   "source": [
    "### **Matriz Diagonal**"
   ]
  },
  {
   "cell_type": "code",
   "execution_count": 20,
   "metadata": {},
   "outputs": [],
   "source": [
    "A = np.diag([1,4,2])\n",
    "b = np.array([4, 2, 2])"
   ]
  },
  {
   "cell_type": "code",
   "execution_count": 21,
   "metadata": {},
   "outputs": [
    {
     "name": "stdout",
     "output_type": "stream",
     "text": [
      "\u001b[1m Matriz linear Diagonal \u001b[0m\n",
      "\n",
      "--------------------------------------\n"
     ]
    },
    {
     "data": {
      "text/plain": [
       "array([4. , 0.5, 1. ])"
      ]
     },
     "execution_count": 21,
     "metadata": {},
     "output_type": "execute_result"
    }
   ],
   "source": [
    "verificar_matriz(A,b)"
   ]
  },
  {
   "cell_type": "markdown",
   "metadata": {},
   "source": [
    "### **Matriz Triangular Superior**"
   ]
  },
  {
   "cell_type": "code",
   "execution_count": 22,
   "metadata": {},
   "outputs": [],
   "source": [
    "A = np.array([[3,4,-5,1],[0,1,1,-2],[0,0,4,-5],[0,0,0,2]])\n",
    "b = np.array([-10,-1,3,2])"
   ]
  },
  {
   "cell_type": "code",
   "execution_count": 23,
   "metadata": {},
   "outputs": [
    {
     "name": "stdout",
     "output_type": "stream",
     "text": [
      "\u001b[1m Matriz triangular superior \u001b[0m\n",
      "\n",
      "--------------------------------------\n",
      "Icógnita com maior indice:  2 / 2\n",
      "Resultado:  1.0\n",
      "--------------------------------------\n",
      "Calculando a icógnita:  :  ( 3 - sum( [-5] * [1.] ) / 4\n",
      "Resultado:  2.0\n",
      "--------------------------------------\n",
      "Calculando a icógnita:  :  ( -1 - sum( [ 1 -2] * [2. 1.] ) / 1\n",
      "Resultado:  -1.0\n",
      "--------------------------------------\n",
      "Calculando a icógnita:  :  ( -10 - sum( [ 4 -5  1] * [-1.  2.  1.] ) / 3\n",
      "Resultado:  1.0\n",
      "--------------------------------------\n"
     ]
    },
    {
     "data": {
      "text/plain": [
       "array([ 1., -1.,  2.,  1.])"
      ]
     },
     "execution_count": 23,
     "metadata": {},
     "output_type": "execute_result"
    }
   ],
   "source": [
    "verificar_matriz(A,b)"
   ]
  },
  {
   "cell_type": "markdown",
   "metadata": {},
   "source": [
    "### **Matriz Triangular Inferior**"
   ]
  },
  {
   "cell_type": "code",
   "execution_count": 24,
   "metadata": {},
   "outputs": [],
   "source": [
    "A = np.array([[3,0,0,0],[2,1,0,0],[1,0,1,0],[1,1,1,1]])\n",
    "b = np.array([4,2,4,2])"
   ]
  },
  {
   "cell_type": "code",
   "execution_count": 25,
   "metadata": {},
   "outputs": [
    {
     "name": "stdout",
     "output_type": "stream",
     "text": [
      "\u001b[1m Matriz triangular inferior \u001b[0m\n",
      "\n",
      "--------------------------------------\n",
      "Icógnita de menor indice:  4 / 3\n",
      "Resultado:  1.3333333333333333\n",
      "--------------------------------------\n",
      "Calculando a incógnita:  ( 2 - sum( [2] * [1.33333333] ) / 1\n",
      "Resultado:  -0.6666666666666665\n",
      "--------------------------------------\n",
      "Calculando a incógnita:  ( 4 - sum( [1 0] * [ 1.33333333 -0.66666667] ) / 1\n",
      "Resultado:  2.666666666666667\n",
      "--------------------------------------\n",
      "Calculando a incógnita:  ( 2 - sum( [1 1 1] * [ 1.33333333 -0.66666667  2.66666667] ) / 1\n",
      "Resultado:  -1.333333333333334\n",
      "--------------------------------------\n"
     ]
    },
    {
     "data": {
      "text/plain": [
       "array([ 1.33333333, -0.66666667,  2.66666667, -1.33333333])"
      ]
     },
     "execution_count": 25,
     "metadata": {},
     "output_type": "execute_result"
    }
   ],
   "source": [
    "verificar_matriz(A,b)"
   ]
  }
 ],
 "metadata": {
  "kernelspec": {
   "display_name": "Python 3",
   "language": "python",
   "name": "python3"
  },
  "language_info": {
   "codemirror_mode": {
    "name": "ipython",
    "version": 3
   },
   "file_extension": ".py",
   "mimetype": "text/x-python",
   "name": "python",
   "nbconvert_exporter": "python",
   "pygments_lexer": "ipython3",
   "version": "3.8.3"
  }
 },
 "nbformat": 4,
 "nbformat_minor": 4
}
