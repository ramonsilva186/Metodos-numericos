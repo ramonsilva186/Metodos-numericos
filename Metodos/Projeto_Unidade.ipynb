{
 "cells": [
  {
   "cell_type": "code",
   "execution_count": 81,
   "metadata": {},
   "outputs": [],
   "source": [
    "import numpy as np\n",
    "import scipy.optimize as opt"
   ]
  },
  {
   "cell_type": "markdown",
   "metadata": {},
   "source": [
    "# **Parte 1**"
   ]
  },
  {
   "cell_type": "code",
   "execution_count": 82,
   "metadata": {},
   "outputs": [],
   "source": [
    "# Método da falsa posição, realizado na atividade anterior\n",
    "def falsa(f, a, b, tol, maxiter):\n",
    "    \n",
    "    x2 = a - (f(a)*(b-a)/(f(b)-f(a)))\n",
    "    cont = 0\n",
    "    erro = 1 \n",
    "    \n",
    "    while (erro > tol and cont < maxiter):\n",
    "        \n",
    "        x = a - (f(a)*(b-a)/(f(b)-f(a)))\n",
    "        \n",
    "        if (np.sign(f(a)) * np.sign(f(x2)) > 0): a = x\n",
    "\n",
    "        else: b = x\n",
    "            \n",
    "        if(cont != 0):\n",
    "            erro  = np.abs(x - x2)/x \n",
    "        \n",
    "        cont += 1      \n",
    "        x2 = x\n",
    "         \n",
    "    return \"Iteração: \" + str(cont), \"Raiz: \" + str(x2)"
   ]
  },
  {
   "cell_type": "code",
   "execution_count": 83,
   "metadata": {},
   "outputs": [],
   "source": [
    "#Implementação do algoritmo proposto pelo artigo\n",
    "def metodo_proposto(f, fprime, a, b, tol = 0.000001, n = 100):\n",
    "    \n",
    "    if f(a)*f(b) > 0:\n",
    "        print(\"sem raiz\")\n",
    "    \n",
    "    cont = 0\n",
    "    c = a\n",
    "    erro = 0\n",
    "    \n",
    "    while(True):\n",
    "        \n",
    "        c_ant = c\n",
    "        \n",
    "        if fprime(a) == 0:\n",
    "            aux = a\n",
    "            a = b\n",
    "            b = aux\n",
    "            \n",
    "        #Passo (5) do Formulation of proposed algorithm\n",
    "        c =((a*f(b)-b*f(a))/(2*(f(b)-f(a))))+((a-(f(a)/fprime(a)))/2)\n",
    "        \n",
    "        cont +=1\n",
    "        \n",
    "        #Erro em percentagem\n",
    "        erro = abs((c - c_ant)/c) * 100\n",
    "        \n",
    "        #Criado para facilitar o \"if\"\n",
    "        aux2 = f(a)*f(c)\n",
    "        \n",
    "        #Steps for calculating a root\n",
    "        if aux2 < 0:\n",
    "            if abs(f(a)) < abs(f(c)):\n",
    "                c = c\n",
    "            else:\n",
    "                b = a\n",
    "                a = c\n",
    "\n",
    "        elif aux2 > 0:\n",
    "            if np.abs(f(c)) < np.abs(f(b)):\n",
    "                a = c\n",
    "            else:\n",
    "                a = b\n",
    "                b = c\n",
    "        else:\n",
    "            erro = 0\n",
    "        \n",
    "        if erro <= tol or cont >= n:\n",
    "            break\n",
    "             \n",
    "    return c"
   ]
  },
  {
   "cell_type": "markdown",
   "metadata": {},
   "source": [
    "## **Exemplo 3**"
   ]
  },
  {
   "cell_type": "code",
   "execution_count": 84,
   "metadata": {},
   "outputs": [],
   "source": [
    "def f(x): return x * np.e**x  - np.cos(x)\n",
    "def f_derivada(x): return (np.e)**x + ((np.e)**x)*x + np.sin(x)"
   ]
  },
  {
   "cell_type": "markdown",
   "metadata": {},
   "source": [
    "**Método da Bisseção**"
   ]
  },
  {
   "cell_type": "code",
   "execution_count": 85,
   "metadata": {},
   "outputs": [
    {
     "data": {
      "text/plain": [
       "      converged: True\n",
       "           flag: 'converged'\n",
       " function_calls: 23\n",
       "     iterations: 21\n",
       "           root: 0.5177569389343262"
      ]
     },
     "execution_count": 85,
     "metadata": {},
     "output_type": "execute_result"
    }
   ],
   "source": [
    "opt.root_scalar(f,method='bisect',bracket=[0,1], rtol = 0.000001)"
   ]
  },
  {
   "cell_type": "markdown",
   "metadata": {},
   "source": [
    "**Método da falsa posição**"
   ]
  },
  {
   "cell_type": "code",
   "execution_count": 86,
   "metadata": {},
   "outputs": [
    {
     "data": {
      "text/plain": [
       "('Iteração: 14', 'Raiz: 0.5177572559945329')"
      ]
     },
     "execution_count": 86,
     "metadata": {},
     "output_type": "execute_result"
    }
   ],
   "source": [
    "falsa(f, 0, 1, 0.000001, 100)"
   ]
  },
  {
   "cell_type": "markdown",
   "metadata": {},
   "source": [
    "**Método de Newton-Raphson**"
   ]
  },
  {
   "cell_type": "code",
   "execution_count": 87,
   "metadata": {},
   "outputs": [
    {
     "data": {
      "text/plain": [
       "      converged: True\n",
       "           flag: 'converged'\n",
       " function_calls: 10\n",
       "     iterations: 5\n",
       "           root: 0.5177573636824586"
      ]
     },
     "execution_count": 87,
     "metadata": {},
     "output_type": "execute_result"
    }
   ],
   "source": [
    "opt.root_scalar(f, fprime=f_derivada, x0=1, method='newton',rtol = 0.000001)"
   ]
  },
  {
   "cell_type": "markdown",
   "metadata": {},
   "source": [
    "**Método proposto no artigo**"
   ]
  },
  {
   "cell_type": "code",
   "execution_count": 88,
   "metadata": {},
   "outputs": [
    {
     "data": {
      "text/plain": [
       "0.5177573636492405"
      ]
     },
     "execution_count": 88,
     "metadata": {},
     "output_type": "execute_result"
    }
   ],
   "source": [
    "metodo_proposto(f, f_derivada, 0 ,1)"
   ]
  },
  {
   "cell_type": "markdown",
   "metadata": {},
   "source": [
    "## **Exemplo 4**"
   ]
  },
  {
   "cell_type": "code",
   "execution_count": 89,
   "metadata": {},
   "outputs": [],
   "source": [
    "def f1(x): return x*np.log10(x) -1.2\n",
    "def f1_derivada(x): return np.log10(x) + 1"
   ]
  },
  {
   "cell_type": "markdown",
   "metadata": {},
   "source": [
    "**Método da Bisseção**"
   ]
  },
  {
   "cell_type": "code",
   "execution_count": 90,
   "metadata": {},
   "outputs": [
    {
     "data": {
      "text/plain": [
       "      converged: True\n",
       "           flag: 'converged'\n",
       " function_calls: 22\n",
       "     iterations: 20\n",
       "           root: 2.7406444549560547"
      ]
     },
     "execution_count": 90,
     "metadata": {},
     "output_type": "execute_result"
    }
   ],
   "source": [
    "opt.root_scalar(f1,method='bisect',bracket=[1,3], rtol = 0.000001)"
   ]
  },
  {
   "cell_type": "markdown",
   "metadata": {},
   "source": [
    "**Método da falsa posição**"
   ]
  },
  {
   "cell_type": "code",
   "execution_count": 91,
   "metadata": {},
   "outputs": [
    {
     "data": {
      "text/plain": [
       "('Iteração: 8', 'Raiz: 2.740646095973513')"
      ]
     },
     "execution_count": 91,
     "metadata": {},
     "output_type": "execute_result"
    }
   ],
   "source": [
    "falsa(f1, 1 , 3, 1e-10, 100)"
   ]
  },
  {
   "cell_type": "markdown",
   "metadata": {},
   "source": [
    "**Método de Newton-Raphson**"
   ]
  },
  {
   "cell_type": "code",
   "execution_count": 92,
   "metadata": {},
   "outputs": [
    {
     "data": {
      "text/plain": [
       "      converged: True\n",
       "           flag: 'converged'\n",
       " function_calls: 30\n",
       "     iterations: 15\n",
       "           root: 2.7406449831889317"
      ]
     },
     "execution_count": 92,
     "metadata": {},
     "output_type": "execute_result"
    }
   ],
   "source": [
    "opt.root_scalar(f1, fprime=f1_derivada, x0=1, method='newton', rtol = 0.000001)"
   ]
  },
  {
   "cell_type": "markdown",
   "metadata": {},
   "source": [
    "**Método proposto no artigo**"
   ]
  },
  {
   "cell_type": "code",
   "execution_count": 93,
   "metadata": {},
   "outputs": [
    {
     "data": {
      "text/plain": [
       "2.740646097887168"
      ]
     },
     "execution_count": 93,
     "metadata": {},
     "output_type": "execute_result"
    }
   ],
   "source": [
    "metodo_proposto(f1, f1_derivada, 1 ,3)"
   ]
  },
  {
   "cell_type": "markdown",
   "metadata": {},
   "source": [
    "## **Exemplo 5**"
   ]
  },
  {
   "cell_type": "code",
   "execution_count": 94,
   "metadata": {},
   "outputs": [],
   "source": [
    "def f3(x): return 1 - x**2\n",
    "def f3_derivada(x): return -2*x"
   ]
  },
  {
   "cell_type": "markdown",
   "metadata": {},
   "source": [
    "**Método da Bisseção**"
   ]
  },
  {
   "cell_type": "code",
   "execution_count": 95,
   "metadata": {},
   "outputs": [
    {
     "data": {
      "text/plain": [
       "      converged: True\n",
       "           flag: 'converged'\n",
       " function_calls: 3\n",
       "     iterations: 1\n",
       "           root: 1.0"
      ]
     },
     "execution_count": 95,
     "metadata": {},
     "output_type": "execute_result"
    }
   ],
   "source": [
    "opt.root_scalar(f3, method='bisect',bracket=[0,2], rtol = 0.000001)"
   ]
  },
  {
   "cell_type": "markdown",
   "metadata": {},
   "source": [
    "**Método da falsa posição**"
   ]
  },
  {
   "cell_type": "code",
   "execution_count": 96,
   "metadata": {},
   "outputs": [
    {
     "data": {
      "text/plain": [
       "('Iteração: 14', 'Raiz: 0.9999995818497711')"
      ]
     },
     "execution_count": 96,
     "metadata": {},
     "output_type": "execute_result"
    }
   ],
   "source": [
    "falsa(f3, 0 , 2, 0.000001, 100)"
   ]
  },
  {
   "cell_type": "markdown",
   "metadata": {},
   "source": [
    "**Método de Newton-Raphson**"
   ]
  },
  {
   "cell_type": "code",
   "execution_count": 97,
   "metadata": {},
   "outputs": [
    {
     "name": "stderr",
     "output_type": "stream",
     "text": [
      "C:\\Users\\ramon\\anaconda3\\lib\\site-packages\\scipy\\optimize\\zeros.py:295: RuntimeWarning: Derivative was zero.\n",
      "  warnings.warn(msg, RuntimeWarning)\n"
     ]
    },
    {
     "data": {
      "text/plain": [
       "      converged: False\n",
       "           flag: 'convergence error'\n",
       " function_calls: 2\n",
       "     iterations: 1\n",
       "           root: 0.0"
      ]
     },
     "execution_count": 97,
     "metadata": {},
     "output_type": "execute_result"
    }
   ],
   "source": [
    "opt.root_scalar(f3, fprime=f3_derivada, x0=0, method='newton', rtol = 0.000001)"
   ]
  },
  {
   "cell_type": "markdown",
   "metadata": {},
   "source": [
    "**Método proposto no artigo**"
   ]
  },
  {
   "cell_type": "code",
   "execution_count": 98,
   "metadata": {},
   "outputs": [
    {
     "data": {
      "text/plain": [
       "0.9999999983277446"
      ]
     },
     "execution_count": 98,
     "metadata": {},
     "output_type": "execute_result"
    }
   ],
   "source": [
    "metodo_proposto(f3, f3_derivada, 0 ,2)"
   ]
  },
  {
   "cell_type": "markdown",
   "metadata": {},
   "source": [
    "# **Parte 2**"
   ]
  },
  {
   "cell_type": "code",
   "execution_count": 99,
   "metadata": {},
   "outputs": [],
   "source": [
    "S = 7.01\n",
    "K = 7.5      \n",
    "r = 0.0225   \n",
    "T = 6/252"
   ]
  },
  {
   "cell_type": "code",
   "execution_count": 100,
   "metadata": {},
   "outputs": [],
   "source": [
    "from scipy import stats"
   ]
  },
  {
   "cell_type": "code",
   "execution_count": 101,
   "metadata": {},
   "outputs": [],
   "source": [
    "stdnormal = stats.norm(loc=0, scale=1)"
   ]
  },
  {
   "cell_type": "code",
   "execution_count": 102,
   "metadata": {},
   "outputs": [],
   "source": [
    "phi = lambda x: stdnormal.cdf(x)"
   ]
  },
  {
   "cell_type": "code",
   "execution_count": 103,
   "metadata": {},
   "outputs": [],
   "source": [
    "def c(x):\n",
    "    d1 = (np.log(S/K)+(r+x**2/2)*T) / (x*np.sqrt(T))\n",
    "    d2 = d1 - x*np.sqrt(T)\n",
    "    return S*phi(d1) - K*np.exp(-r*T)*phi(d2)"
   ]
  },
  {
   "cell_type": "code",
   "execution_count": 104,
   "metadata": {},
   "outputs": [],
   "source": [
    "def cprime(x):\n",
    "    d1 = (np.log(S / K) + (r + x ** 2 / 2) * T) / (x * np.sqrt(T))\n",
    "    d2 = d1 - x * np.sqrt(T)\n",
    "    A = (np.log(S / K) + (r + x ** 2 / 2) * T) / (np.sqrt(T) * x ** 2)\n",
    "    return S * (np.exp(-d1 ** 2 / 2) / np.sqrt(2 * np.pi)) * (np.sqrt(T) - A) + K * np.exp(-(r * T + d2 ** 2 / 2)) * A / np.sqrt(2 * np.pi)"
   ]
  },
  {
   "cell_type": "code",
   "execution_count": 105,
   "metadata": {},
   "outputs": [],
   "source": [
    "f4 = lambda x: c(x)-0.1"
   ]
  },
  {
   "cell_type": "code",
   "execution_count": 106,
   "metadata": {},
   "outputs": [
    {
     "data": {
      "text/plain": [
       "      converged: True\n",
       "           flag: 'converged'\n",
       " function_calls: 8\n",
       "     iterations: 4\n",
       "           root: 0.6231138398099891"
      ]
     },
     "execution_count": 106,
     "metadata": {},
     "output_type": "execute_result"
    }
   ],
   "source": [
    "#Utilizando o método nativo do scipy.optimize, ao invés de da minha implementação\n",
    "volatilidade = opt.root_scalar(f4, fprime=cprime, x0=1, xtol=1e-4, maxiter=60, method='newton')\n",
    "volatilidade"
   ]
  },
  {
   "cell_type": "code",
   "execution_count": 107,
   "metadata": {},
   "outputs": [
    {
     "name": "stdout",
     "output_type": "stream",
     "text": [
      "62%\n"
     ]
    }
   ],
   "source": [
    "#Mostrando em percentagem\n",
    "raiz_porcent = volatilidade.root * 100\n",
    "print(\"%.f\" %raiz_porcent + \"%\")"
   ]
  },
  {
   "cell_type": "code",
   "execution_count": 108,
   "metadata": {},
   "outputs": [
    {
     "data": {
      "text/plain": [
       "0.6231138401701746"
      ]
     },
     "execution_count": 108,
     "metadata": {},
     "output_type": "execute_result"
    }
   ],
   "source": [
    "#Utilizando o método proposto no artigo\n",
    "volatilidade2 = metodo_proposto(f4, cprime, -1, 1)\n",
    "volatilidade2"
   ]
  },
  {
   "cell_type": "code",
   "execution_count": 109,
   "metadata": {},
   "outputs": [
    {
     "name": "stdout",
     "output_type": "stream",
     "text": [
      "62%\n"
     ]
    }
   ],
   "source": [
    "#Mostrando em percentagem\n",
    "raiz_porcent2 = volatilidade2 * 100\n",
    "print(\"%.f\" %raiz_porcent2 + \"%\")"
   ]
  }
 ],
 "metadata": {
  "kernelspec": {
   "display_name": "Python 3",
   "language": "python",
   "name": "python3"
  },
  "language_info": {
   "codemirror_mode": {
    "name": "ipython",
    "version": 3
   },
   "file_extension": ".py",
   "mimetype": "text/x-python",
   "name": "python",
   "nbconvert_exporter": "python",
   "pygments_lexer": "ipython3",
   "version": "3.8.3"
  }
 },
 "nbformat": 4,
 "nbformat_minor": 4
}
