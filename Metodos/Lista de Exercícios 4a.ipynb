{
 "cells": [
  {
   "cell_type": "code",
   "execution_count": 197,
   "metadata": {},
   "outputs": [],
   "source": [
    "import numpy as np\n",
    "import math\n",
    "import pandas as pd\n",
    "import scipy.optimize as opt\n",
    "import matplotlib.pyplot as plt\n",
    "from sympy import *\n",
    "%matplotlib inline"
   ]
  },
  {
   "cell_type": "markdown",
   "metadata": {},
   "source": [
    "# Questão 1"
   ]
  },
  {
   "cell_type": "code",
   "execution_count": 198,
   "metadata": {},
   "outputs": [],
   "source": [
    "def bissecao(f, a, b, tol=1e-10, iteracao=9999):\n",
    "    i  = 0;\n",
    "    erro, x_ant = 1, a\n",
    "    \n",
    "    while(erro > tol) and (i < iteracao):\n",
    "        inf = np.sign(f(a))\n",
    "        sup = np.sign(f(b))\n",
    "        \n",
    "        if inf * sup != -1:\n",
    "            print(\"Não há raiz nesse intervalo\")\n",
    "            return\n",
    "        else:\n",
    "            x = (a + b)/2.\n",
    "            if f(x) == 0:\n",
    "                print(\"A raíz é\", x)\n",
    "                return\n",
    "            elif inf * np.sign(f(x)) == -1:\n",
    "                b = x\n",
    "            else: a = x\n",
    "            i += 1\n",
    "        erro = np.abs((x - x_ant)/np.abs(x))\n",
    "        x_ant = x\n",
    "    return x"
   ]
  },
  {
   "cell_type": "code",
   "execution_count": 199,
   "metadata": {},
   "outputs": [],
   "source": [
    "f = lambda x: x**5+2*x**3-5*x-2"
   ]
  },
  {
   "cell_type": "code",
   "execution_count": 200,
   "metadata": {},
   "outputs": [
    {
     "data": {
      "image/png": "[encoded data removed]",
      "text/plain": [
       "<Figure size 432x288 with 1 Axes>"
      ]
     },
     "metadata": {
      "needs_background": "light"
     },
     "output_type": "display_data"
    }
   ],
   "source": [
    "x = np.linspace(-3, 3, 100)\n",
    "plt.plot(x, f(x))\n",
    "plt.grid()"
   ]
  },
  {
   "cell_type": "code",
   "execution_count": 201,
   "metadata": {},
   "outputs": [
    {
     "name": "stderr",
     "output_type": "stream",
     "text": [
      "<ipython-input-198-c8b8fc5002a3>:21: RuntimeWarning: divide by zero encountered in double_scalars\n",
      "  erro = np.abs((x - x_ant)/np.abs(x))\n"
     ]
    },
    {
     "data": {
      "text/plain": [
       "1.3197021484375"
      ]
     },
     "execution_count": 201,
     "metadata": {},
     "output_type": "execute_result"
    }
   ],
   "source": [
    "bissecao(f, -2, 2, 1e-4)"
   ]
  },
  {
   "cell_type": "code",
   "execution_count": 202,
   "metadata": {},
   "outputs": [
    {
     "data": {
      "text/plain": [
       "1.4141082763671875"
      ]
     },
     "execution_count": 202,
     "metadata": {},
     "output_type": "execute_result"
    }
   ],
   "source": [
    "f = lambda x: ( x**2 - 2 )\n",
    "bissecao(f, -1, 8, 1e-4)"
   ]
  },
  {
   "cell_type": "markdown",
   "metadata": {},
   "source": [
    "## Questão 2"
   ]
  },
  {
   "cell_type": "code",
   "execution_count": 203,
   "metadata": {},
   "outputs": [],
   "source": [
    "def f(x):\n",
    "    return (-0.5 * (x**2)) + 2.5*x + 4.5"
   ]
  },
  {
   "cell_type": "markdown",
   "metadata": {},
   "source": [
    "### Alternativa (a)"
   ]
  },
  {
   "cell_type": "code",
   "execution_count": 204,
   "metadata": {},
   "outputs": [],
   "source": [
    "x = np.linspace(-5, 10)"
   ]
  },
  {
   "cell_type": "code",
   "execution_count": 205,
   "metadata": {},
   "outputs": [
    {
     "data": {
      "image/png": "[encoded data removed]",
      "text/plain": [
       "<Figure size 432x288 with 1 Axes>"
      ]
     },
     "metadata": {
      "needs_background": "light"
     },
     "output_type": "display_data"
    }
   ],
   "source": [
    "raiz1 = opt.root(f, -2)\n",
    "raiz2 = opt.root(f, 7)\n",
    "raizes = np.array([raiz1.x, raiz2.x])\n",
    "\n",
    "fig = plt.figure()\n",
    "ax = fig.add_subplot()\n",
    "\n",
    "plt.plot(x, f(x))\n",
    "ax.plot(raizes, f(raizes), 'o')\n",
    "plt.grid(ls=':')"
   ]
  },
  {
   "cell_type": "markdown",
   "metadata": {},
   "source": [
    "## Alternativa (b)"
   ]
  },
  {
   "cell_type": "code",
   "execution_count": 206,
   "metadata": {},
   "outputs": [],
   "source": [
    "def quadratica(a, b, c):\n",
    "    delta = (b**2) - (4 * a * c)\n",
    "    x1 = (-b-math.sqrt(delta)) / (2 * a)\n",
    "    x2 = (-b+math.sqrt(delta)) / (2 * a)\n",
    "    return x1, x2"
   ]
  },
  {
   "cell_type": "code",
   "execution_count": 207,
   "metadata": {},
   "outputs": [
    {
     "data": {
      "text/plain": [
       "(6.405124837953327, -1.405124837953327)"
      ]
     },
     "execution_count": 207,
     "metadata": {},
     "output_type": "execute_result"
    }
   ],
   "source": [
    "quadratica(-0.5, 2.5, 4.5)"
   ]
  },
  {
   "cell_type": "code",
   "execution_count": 208,
   "metadata": {},
   "outputs": [
    {
     "data": {
      "text/plain": [
       "(6.405124837953327, -1.4051248379533272)"
      ]
     },
     "execution_count": 208,
     "metadata": {},
     "output_type": "execute_result"
    }
   ],
   "source": [
    "x1, x2 = np.roots([-0.5, 2.5, 4.5])\n",
    "x1, x2"
   ]
  },
  {
   "cell_type": "markdown",
   "metadata": {},
   "source": [
    "### Alternativa (c)"
   ]
  },
  {
   "cell_type": "markdown",
   "metadata": {},
   "source": [
    "#### Erro relativo entre cada iteração"
   ]
  },
  {
   "cell_type": "code",
   "execution_count": 209,
   "metadata": {},
   "outputs": [
    {
     "name": "stdout",
     "output_type": "stream",
     "text": [
      "Iteração: 0 \t Raiz: 5.0 \t Erro: 0.2\n",
      "Iteração: 1 \t Raiz: 6.25 \t Erro: 0.0\n",
      "Iteração: 2 \t Raiz: 6.25 \t Erro: 0.0\n"
     ]
    }
   ],
   "source": [
    "erros = []\n",
    "raizes = []\n",
    "\n",
    "for i in range(1,5):\n",
    "    if i <= 3:\n",
    "        raiz = opt.root_scalar(f,method='bisect',bracket=[5,10], maxiter=i).root\n",
    "        x = opt.root_scalar(f,method='bisect',bracket=[5,10], maxiter=(i+1)).root\n",
    "        raizes.append(raiz)\n",
    "        erros.append(np.absolute(x - raiz)/x)\n",
    "\n",
    "for i in range(len(erros)):\n",
    "    print(f'Iteração: {i} \\t Raiz: {raizes[i]} \\t Erro: {erros[i]}')"
   ]
  },
  {
   "cell_type": "markdown",
   "metadata": {},
   "source": [
    "#### Erro relativo como valor real"
   ]
  },
  {
   "cell_type": "code",
   "execution_count": 210,
   "metadata": {},
   "outputs": [
    {
     "name": "stdout",
     "output_type": "stream",
     "text": [
      "Iteração: 0 \t Raiz: 5.0 \t Erro: 0.2193750900259293\n",
      "Iteração: 1 \t Raiz: 6.25 \t Erro: 0.024218862532411636\n",
      "Iteração: 2 \t Raiz: 6.25 \t Erro: 0.024218862532411636\n"
     ]
    }
   ],
   "source": [
    "erros2 = []\n",
    "raizes2 =[]\n",
    "\n",
    "for i in range(1,5):\n",
    "    if i <= 3:\n",
    "        raiz = opt.root_scalar(f,method='bisect',bracket=[5,10], maxiter=i).root\n",
    "        raizes2.append(raiz)\n",
    "        erros2.append(np.absolute(6.405124837953327 - raiz)/6.405124837953327)\n",
    "\n",
    "for i in range(len(erros)):\n",
    "    print(f'Iteração: {i} \\t Raiz: {raizes2[i]} \\t Erro: {erros2[i]}')"
   ]
  },
  {
   "cell_type": "markdown",
   "metadata": {},
   "source": [
    "# Questão 3"
   ]
  },
  {
   "cell_type": "code",
   "execution_count": 211,
   "metadata": {},
   "outputs": [],
   "source": [
    "f = lambda x: np.sin(x) - x**3 "
   ]
  },
  {
   "cell_type": "code",
   "execution_count": 212,
   "metadata": {},
   "outputs": [],
   "source": [
    "x = np.linspace(-np.pi, np.pi, 200)\n",
    "y = f(x)"
   ]
  },
  {
   "cell_type": "code",
   "execution_count": 213,
   "metadata": {},
   "outputs": [
    {
     "data": {
      "image/png": "[encoded data removed]",
      "text/plain": [
       "<Figure size 432x288 with 1 Axes>"
      ]
     },
     "metadata": {
      "needs_background": "light"
     },
     "output_type": "display_data"
    }
   ],
   "source": [
    "raiz1 = opt.root(f, -2)\n",
    "raiz2 = opt.root(f, 7)\n",
    "markers_on = np.array([raiz1.x, raiz2.x])\n",
    "\n",
    "fig = plt.figure()\n",
    "ax = fig.add_subplot()\n",
    "\n",
    "plt.plot(x, y)\n",
    "ax.plot(markers_on, f(markers_on), 'o')\n",
    "plt.grid(ls=':')"
   ]
  },
  {
   "cell_type": "markdown",
   "metadata": {},
   "source": [
    "# Questão 4"
   ]
  },
  {
   "cell_type": "code",
   "execution_count": 214,
   "metadata": {},
   "outputs": [],
   "source": [
    "f = lambda x: (-2*x**6) - (1.5*x**4) + (10*x) + 20"
   ]
  },
  {
   "cell_type": "code",
   "execution_count": 215,
   "metadata": {},
   "outputs": [
    {
     "data": {
      "text/latex": [
       "$\\displaystyle - 12 x^{5} - 6.0 x^{3} + 10$"
      ],
      "text/plain": [
       "-12*x**5 - 6.0*x**3 + 10"
      ]
     },
     "execution_count": 215,
     "metadata": {},
     "output_type": "execute_result"
    }
   ],
   "source": [
    "x = Symbol('x')\n",
    "y = (-2*x**6) - (1.5*x**4) + (10*x) + 20\n",
    "derivada = y.diff(x)\n",
    "derivada"
   ]
  },
  {
   "cell_type": "code",
   "execution_count": 216,
   "metadata": {},
   "outputs": [],
   "source": [
    "yprime = lambda x: (-12*x**5) - (6*x**3) + 10"
   ]
  },
  {
   "cell_type": "code",
   "execution_count": 217,
   "metadata": {},
   "outputs": [
    {
     "data": {
      "text/plain": [
       "0.84375"
      ]
     },
     "execution_count": 217,
     "metadata": {},
     "output_type": "execute_result"
    }
   ],
   "source": [
    "bissecao(yprime, 0, 1, 0.05)"
   ]
  },
  {
   "cell_type": "markdown",
   "metadata": {},
   "source": [
    "# Questão 5"
   ]
  },
  {
   "cell_type": "code",
   "execution_count": 218,
   "metadata": {},
   "outputs": [],
   "source": [
    "def interpolacao(f, xi, xs, tol=1e-10):\n",
    "    i = 0;\n",
    "    \n",
    "    inf = (f(xi))\n",
    "    sup = (f(xs))\n",
    "    \n",
    "    if inf * sup >= 0:\n",
    "        return -1\n",
    "\n",
    "    erro, x_ant = 1, xi\n",
    "    \n",
    "    while (erro > tol):        \n",
    "        x = xs - ( ( f(xs)*(xi-xs) ) / (f(xi)-f(xs)))\n",
    "\n",
    "        if ((f(x) * f(xi)) < 0):\n",
    "            xs = x\n",
    "        else: xi = x\n",
    "        i += 1\n",
    "        erro = np.abs((x - x_ant)/np.abs(x))\n",
    "        x_ant = x\n",
    "    return x"
   ]
  },
  {
   "cell_type": "code",
   "execution_count": 219,
   "metadata": {},
   "outputs": [],
   "source": [
    "f = lambda x: ( x**5+2*x**3-5*x-2 )"
   ]
  },
  {
   "cell_type": "code",
   "execution_count": 220,
   "metadata": {},
   "outputs": [
    {
     "name": "stderr",
     "output_type": "stream",
     "text": [
      "<ipython-input-198-c8b8fc5002a3>:21: RuntimeWarning: divide by zero encountered in double_scalars\n",
      "  erro = np.abs((x - x_ant)/np.abs(x))\n"
     ]
    },
    {
     "data": {
      "text/plain": [
       "1.319641167181544"
      ]
     },
     "execution_count": 220,
     "metadata": {},
     "output_type": "execute_result"
    }
   ],
   "source": [
    "bissecao(f, -2, 2)"
   ]
  },
  {
   "cell_type": "code",
   "execution_count": 221,
   "metadata": {},
   "outputs": [
    {
     "data": {
      "text/plain": [
       "1.3196411670137347"
      ]
     },
     "execution_count": 221,
     "metadata": {},
     "output_type": "execute_result"
    }
   ],
   "source": [
    "interpolacao(f, -2, 2)"
   ]
  }
 ],
 "metadata": {
  "kernelspec": {
   "display_name": "Python 3",
   "language": "python",
   "name": "python3"
  },
  "language_info": {
   "codemirror_mode": {
    "name": "ipython",
    "version": 3
   },
   "file_extension": ".py",
   "mimetype": "text/x-python",
   "name": "python",
   "nbconvert_exporter": "python",
   "pygments_lexer": "ipython3",
   "version": "3.8.3"
  }
 },
 "nbformat": 4,
 "nbformat_minor": 4
}
